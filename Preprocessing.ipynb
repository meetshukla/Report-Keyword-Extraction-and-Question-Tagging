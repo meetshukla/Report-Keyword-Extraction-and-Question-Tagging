{
 "cells": [
  {
   "cell_type": "code",
   "execution_count": 193,
   "metadata": {},
   "outputs": [],
   "source": [
    "import warnings\n",
    "warnings.filterwarnings(\"ignore\")\n",
    "\n",
    "import os\n",
    "import joblib\n",
    "import pandas as pd\n",
    "import sqlite3\n",
    "import csv\n",
    "import matplotlib.pyplot as plt\n",
    "import seaborn as sns\n",
    "import numpy as np\n",
    "import re\n",
    "import datetime as dt\n",
    "from tqdm import tqdm\n",
    "import random\n",
    "from scipy.sparse import save_npz, load_npz\n",
    "\n",
    "from IPython.display import Image\n",
    "from wordcloud import WordCloud\n",
    "from sqlalchemy import create_engine # Database connection\n",
    "from nltk.corpus import stopwords\n",
    "from nltk.tokenize import word_tokenize\n",
    "from nltk.stem.snowball import SnowballStemmer\n",
    "from sklearn.feature_extraction.text import CountVectorizer\n",
    "from sklearn.feature_extraction.text import TfidfVectorizer\n",
    "from sklearn.multiclass import OneVsRestClassifier\n",
    "from sklearn.linear_model import SGDClassifier\n",
    "from sklearn import metrics\n",
    "from sklearn.metrics import f1_score,precision_score,recall_score\n",
    "from sklearn import svm\n",
    "from sklearn.linear_model import LogisticRegression\n",
    "from skmultilearn.adapt import mlknn\n",
    "from skmultilearn.problem_transform import ClassifierChain\n",
    "from skmultilearn.problem_transform import BinaryRelevance\n",
    "from skmultilearn.problem_transform import LabelPowerset\n",
    "from sklearn.naive_bayes import GaussianNB\n",
    "from sklearn.model_selection import GridSearchCV\n",
    "from datetime import datetime"
   ]
  },
  {
   "cell_type": "markdown",
   "metadata": {},
   "source": [
    "Data:\n",
    "\n",
    "Subsampling to reduce data size: 500k posts"
   ]
  },
  {
   "cell_type": "code",
   "execution_count": 122,
   "metadata": {
    "scrolled": true
   },
   "outputs": [
    {
     "name": "stderr",
     "output_type": "stream",
     "text": [
      "Loaded:: 100%|██████████████████████████████████████████████████████████| 500000.0/500000.0 [00:32<00:00, 15504.60it/s]"
     ]
    },
    {
     "name": "stdout",
     "output_type": "stream",
     "text": [
      "Time taken to run this cell:  0:00:32.248484\n"
     ]
    },
    {
     "name": "stderr",
     "output_type": "stream",
     "text": [
      "\n"
     ]
    }
   ],
   "source": [
    "data_dir = \"G:/work/Carleton/Fall 2022/COMP 5505 O - NLP/Final Project/Data/\"\n",
    "raw = \"raw/\"\n",
    "\n",
    "\n",
    "start = datetime.now()\n",
    "disk_engine = create_engine(\"sqlite:///train_sub.db\")\n",
    "\n",
    "num_chuncks = 0\n",
    "\n",
    "with tqdm(total=5*1e5, desc=\"Loaded:\") as pbar:\n",
    "    start = dt.datetime.now()\n",
    "    chunksize = 100000\n",
    "    index_start = 1\n",
    "    num_chunks = 0\n",
    "    for df in pd.read_csv(data_dir + raw + \"Train.zip\", names=[\"Id\", \"Title\", \"Body\", \"Tags\"], chunksize=chunksize, iterator=True, encoding=\"utf-8\"):\n",
    "        if num_chunks >= 5:\n",
    "            break\n",
    "        df.index += index_start\n",
    "        df.to_sql(\"data\", disk_engine, if_exists = 'append')\n",
    "        index_start = df.index[-1] + 1\n",
    "        pbar.update(1e5)\n",
    "        num_chunks += 1\n",
    "    print(\"Time taken to run this cell: \", datetime.now() - start)"
   ]
  },
  {
   "cell_type": "code",
   "execution_count": 123,
   "metadata": {
    "scrolled": true
   },
   "outputs": [
    {
     "name": "stdout",
     "output_type": "stream",
     "text": [
      "Number of rows in the database: \n",
      " 500000\n",
      "Time taken to count the number of rows:  0:00:00.033592\n"
     ]
    }
   ],
   "source": [
    "start = datetime.now()\n",
    "con = sqlite3.connect(\"train_sub.db\")\n",
    "num_rows = pd.read_sql_query(\"SELECT count(*) FROM data\", con)\n",
    "print(\"Number of rows in the database: \\n\", num_rows[\"count(*)\"].values[0])\n",
    "con.close()\n",
    "print(\"Time taken to count the number of rows: \", datetime.now() - start)"
   ]
  },
  {
   "cell_type": "code",
   "execution_count": 124,
   "metadata": {},
   "outputs": [
    {
     "name": "stdout",
     "output_type": "stream",
     "text": [
      "Time taken to run this cell:  0:00:07.935724\n"
     ]
    }
   ],
   "source": [
    "start = datetime.now()\n",
    "con = sqlite3.connect(\"train_sub.db\")\n",
    "df_no_dup = pd.read_sql_query(\"SELECT Title, Body, Tags, COUNT(*) as cnt_dup FROM data GROUP BY Title, Body, Tags\", con)\n",
    "con.close()\n",
    "print(\"Time taken to run this cell: \", datetime.now() - start)"
   ]
  },
  {
   "cell_type": "code",
   "execution_count": 125,
   "metadata": {},
   "outputs": [
    {
     "data": {
      "text/html": [
       "<div>\n",
       "<style scoped>\n",
       "    .dataframe tbody tr th:only-of-type {\n",
       "        vertical-align: middle;\n",
       "    }\n",
       "\n",
       "    .dataframe tbody tr th {\n",
       "        vertical-align: top;\n",
       "    }\n",
       "\n",
       "    .dataframe thead th {\n",
       "        text-align: right;\n",
       "    }\n",
       "</style>\n",
       "<table border=\"1\" class=\"dataframe\">\n",
       "  <thead>\n",
       "    <tr style=\"text-align: right;\">\n",
       "      <th></th>\n",
       "      <th>Title</th>\n",
       "      <th>Body</th>\n",
       "      <th>Tags</th>\n",
       "      <th>cnt_dup</th>\n",
       "    </tr>\n",
       "  </thead>\n",
       "  <tbody>\n",
       "    <tr>\n",
       "      <th>0</th>\n",
       "      <td>\"SQL Injection\" issue preventing correct for...</td>\n",
       "      <td>&lt;p&gt;So I've been checking everything I can thin...</td>\n",
       "      <td>php forms</td>\n",
       "      <td>1</td>\n",
       "    </tr>\n",
       "    <tr>\n",
       "      <th>1</th>\n",
       "      <td>$f$ a continuous function in [0,1], Show: $\\l...</td>\n",
       "      <td>&lt;p&gt;Let $f$ be a continuous function in [0,1] a...</td>\n",
       "      <td>calculus</td>\n",
       "      <td>1</td>\n",
       "    </tr>\n",
       "    <tr>\n",
       "      <th>2</th>\n",
       "      <td>*** Exception: Prelude.read: no parse in Hask...</td>\n",
       "      <td>&lt;p&gt;This portion of code should read in two or ...</td>\n",
       "      <td>parsing haskell expression</td>\n",
       "      <td>1</td>\n",
       "    </tr>\n",
       "    <tr>\n",
       "      <th>3</th>\n",
       "      <td>500 Internal Server Error in ASP.NET MVC</td>\n",
       "      <td>&lt;p&gt;I am working in ASP.NET MVC. I am using par...</td>\n",
       "      <td>asp.net-mvc</td>\n",
       "      <td>1</td>\n",
       "    </tr>\n",
       "    <tr>\n",
       "      <th>4</th>\n",
       "      <td>Accessing @Local Session Bean from an exposed...</td>\n",
       "      <td>&lt;p&gt;What I am trying to do should be very strai...</td>\n",
       "      <td>ejb resteasy</td>\n",
       "      <td>2</td>\n",
       "    </tr>\n",
       "  </tbody>\n",
       "</table>\n",
       "</div>"
      ],
      "text/plain": [
       "                                               Title  \\\n",
       "0    \"SQL Injection\" issue preventing correct for...   \n",
       "1   $f$ a continuous function in [0,1], Show: $\\l...   \n",
       "2   *** Exception: Prelude.read: no parse in Hask...   \n",
       "3           500 Internal Server Error in ASP.NET MVC   \n",
       "4   Accessing @Local Session Bean from an exposed...   \n",
       "\n",
       "                                                Body  \\\n",
       "0  <p>So I've been checking everything I can thin...   \n",
       "1  <p>Let $f$ be a continuous function in [0,1] a...   \n",
       "2  <p>This portion of code should read in two or ...   \n",
       "3  <p>I am working in ASP.NET MVC. I am using par...   \n",
       "4  <p>What I am trying to do should be very strai...   \n",
       "\n",
       "                         Tags  cnt_dup  \n",
       "0                   php forms        1  \n",
       "1                    calculus        1  \n",
       "2  parsing haskell expression        1  \n",
       "3                 asp.net-mvc        1  \n",
       "4                ejb resteasy        2  "
      ]
     },
     "execution_count": 125,
     "metadata": {},
     "output_type": "execute_result"
    }
   ],
   "source": [
    "df_no_dup.head()"
   ]
  },
  {
   "cell_type": "code",
   "execution_count": 127,
   "metadata": {
    "scrolled": true
   },
   "outputs": [
    {
     "name": "stdout",
     "output_type": "stream",
     "text": [
      "500000\n",
      "500000\n",
      "485836\n"
     ]
    }
   ],
   "source": [
    "print(np.sum(df_no_dup['cnt_dup']))        # Total Number of Questions\n",
    "print(num_rows['count(*)'].values[0])      # Total Number of Questions\n",
    "print(df_no_dup.shape[0])                  # Total Number of unique questions"
   ]
  },
  {
   "cell_type": "code",
   "execution_count": 128,
   "metadata": {},
   "outputs": [
    {
     "name": "stdout",
     "output_type": "stream",
     "text": [
      "Number of duplicate questions:  14164 ( 2.832800000000002 % )\n"
     ]
    }
   ],
   "source": [
    "print(\"Number of duplicate questions: \", num_rows['count(*)'].values[0] - df_no_dup.shape[0],  \"(\",(1 - ((df_no_dup.shape[0])/(num_rows['count(*)'].values[0])))*100,\"% )\")"
   ]
  },
  {
   "cell_type": "code",
   "execution_count": 129,
   "metadata": {},
   "outputs": [
    {
     "name": "stdout",
     "output_type": "stream",
     "text": [
      "Time taken to run this cell:  0:00:00.283248\n"
     ]
    },
    {
     "data": {
      "text/html": [
       "<div>\n",
       "<style scoped>\n",
       "    .dataframe tbody tr th:only-of-type {\n",
       "        vertical-align: middle;\n",
       "    }\n",
       "\n",
       "    .dataframe tbody tr th {\n",
       "        vertical-align: top;\n",
       "    }\n",
       "\n",
       "    .dataframe thead th {\n",
       "        text-align: right;\n",
       "    }\n",
       "</style>\n",
       "<table border=\"1\" class=\"dataframe\">\n",
       "  <thead>\n",
       "    <tr style=\"text-align: right;\">\n",
       "      <th></th>\n",
       "      <th>Title</th>\n",
       "      <th>Body</th>\n",
       "      <th>Tags</th>\n",
       "      <th>cnt_dup</th>\n",
       "      <th>tag_count</th>\n",
       "    </tr>\n",
       "  </thead>\n",
       "  <tbody>\n",
       "    <tr>\n",
       "      <th>0</th>\n",
       "      <td>\"SQL Injection\" issue preventing correct for...</td>\n",
       "      <td>&lt;p&gt;So I've been checking everything I can thin...</td>\n",
       "      <td>php forms</td>\n",
       "      <td>1</td>\n",
       "      <td>2</td>\n",
       "    </tr>\n",
       "    <tr>\n",
       "      <th>1</th>\n",
       "      <td>$f$ a continuous function in [0,1], Show: $\\l...</td>\n",
       "      <td>&lt;p&gt;Let $f$ be a continuous function in [0,1] a...</td>\n",
       "      <td>calculus</td>\n",
       "      <td>1</td>\n",
       "      <td>1</td>\n",
       "    </tr>\n",
       "    <tr>\n",
       "      <th>2</th>\n",
       "      <td>*** Exception: Prelude.read: no parse in Hask...</td>\n",
       "      <td>&lt;p&gt;This portion of code should read in two or ...</td>\n",
       "      <td>parsing haskell expression</td>\n",
       "      <td>1</td>\n",
       "      <td>3</td>\n",
       "    </tr>\n",
       "    <tr>\n",
       "      <th>3</th>\n",
       "      <td>500 Internal Server Error in ASP.NET MVC</td>\n",
       "      <td>&lt;p&gt;I am working in ASP.NET MVC. I am using par...</td>\n",
       "      <td>asp.net-mvc</td>\n",
       "      <td>1</td>\n",
       "      <td>1</td>\n",
       "    </tr>\n",
       "    <tr>\n",
       "      <th>4</th>\n",
       "      <td>Accessing @Local Session Bean from an exposed...</td>\n",
       "      <td>&lt;p&gt;What I am trying to do should be very strai...</td>\n",
       "      <td>ejb resteasy</td>\n",
       "      <td>2</td>\n",
       "      <td>2</td>\n",
       "    </tr>\n",
       "  </tbody>\n",
       "</table>\n",
       "</div>"
      ],
      "text/plain": [
       "                                               Title  \\\n",
       "0    \"SQL Injection\" issue preventing correct for...   \n",
       "1   $f$ a continuous function in [0,1], Show: $\\l...   \n",
       "2   *** Exception: Prelude.read: no parse in Hask...   \n",
       "3           500 Internal Server Error in ASP.NET MVC   \n",
       "4   Accessing @Local Session Bean from an exposed...   \n",
       "\n",
       "                                                Body  \\\n",
       "0  <p>So I've been checking everything I can thin...   \n",
       "1  <p>Let $f$ be a continuous function in [0,1] a...   \n",
       "2  <p>This portion of code should read in two or ...   \n",
       "3  <p>I am working in ASP.NET MVC. I am using par...   \n",
       "4  <p>What I am trying to do should be very strai...   \n",
       "\n",
       "                         Tags  cnt_dup  tag_count  \n",
       "0                   php forms        1          2  \n",
       "1                    calculus        1          1  \n",
       "2  parsing haskell expression        1          3  \n",
       "3                 asp.net-mvc        1          1  \n",
       "4                ejb resteasy        2          2  "
      ]
     },
     "execution_count": 129,
     "metadata": {},
     "output_type": "execute_result"
    }
   ],
   "source": [
    "start = datetime.now()\n",
    "df_no_dup[\"tag_count\"] = df_no_dup[\"Tags\"].apply(lambda text: len(text.split(\" \")) if text != None else 0)\n",
    "\n",
    "# Adding a new feature number of tags per question\n",
    "print(\"Time taken to run this cell: \", datetime.now() - start)\n",
    "df_no_dup.head()"
   ]
  },
  {
   "cell_type": "code",
   "execution_count": 130,
   "metadata": {},
   "outputs": [],
   "source": [
    "disk_dup = create_engine(\"sqlite:///train_sub_no_dup.db\")\n",
    "no_dup = pd.DataFrame(df_no_dup, columns=['Title', 'Body', 'Tags'])\n",
    "no_dup.to_sql('no_dup_train', disk_dup)"
   ]
  },
  {
   "cell_type": "code",
   "execution_count": 132,
   "metadata": {},
   "outputs": [
    {
     "name": "stdout",
     "output_type": "stream",
     "text": [
      "Time taken to run this cell:  0:00:01.234124\n"
     ]
    }
   ],
   "source": [
    "start = datetime.now()\n",
    "con = sqlite3.connect(\"train_sub_no_dup.db\")\n",
    "tag_data = pd.read_sql_query(\"SELECT Tags FROM no_dup_train\", con)\n",
    "con.close()\n",
    "\n",
    "tag_data.drop(tag_data.index[0], inplace = True)\n",
    "tag_data.head()\n",
    "print(\"Time taken to run this cell: \", datetime.now() - start)"
   ]
  },
  {
   "cell_type": "code",
   "execution_count": 136,
   "metadata": {},
   "outputs": [],
   "source": [
    "vectorizer = CountVectorizer(tokenizer = lambda x: x.split())\n",
    "\n",
    "tag_dtm = vectorizer.fit_transform(tag_data['Tags'])"
   ]
  },
  {
   "cell_type": "code",
   "execution_count": 137,
   "metadata": {},
   "outputs": [
    {
     "name": "stdout",
     "output_type": "stream",
     "text": [
      "Number of data points : 485835\n",
      "Number of unique tags : 30429\n"
     ]
    }
   ],
   "source": [
    "print(\"Number of data points :\", tag_dtm.shape[0])\n",
    "print(\"Number of unique tags :\", tag_dtm.shape[1])"
   ]
  },
  {
   "cell_type": "code",
   "execution_count": 138,
   "metadata": {},
   "outputs": [
    {
     "name": "stdout",
     "output_type": "stream",
     "text": [
      "Some of the tags we have : ['.a', '.app', '.aspxauth', '.bash-profile', '.class-file', '.doc', '.each', '.emf', '.exe', '.hgtags']\n"
     ]
    }
   ],
   "source": [
    "tags = vectorizer.get_feature_names()\n",
    "\n",
    "print(\"Some of the tags we have :\", tags[:10])"
   ]
  },
  {
   "cell_type": "code",
   "execution_count": 139,
   "metadata": {},
   "outputs": [],
   "source": [
    "freqs = tag_dtm.sum(axis = 0).A1\n",
    "result = dict(zip(tags, freqs))"
   ]
  },
  {
   "cell_type": "code",
   "execution_count": 140,
   "metadata": {},
   "outputs": [
    {
     "data": {
      "text/html": [
       "<div>\n",
       "<style scoped>\n",
       "    .dataframe tbody tr th:only-of-type {\n",
       "        vertical-align: middle;\n",
       "    }\n",
       "\n",
       "    .dataframe tbody tr th {\n",
       "        vertical-align: top;\n",
       "    }\n",
       "\n",
       "    .dataframe thead th {\n",
       "        text-align: right;\n",
       "    }\n",
       "</style>\n",
       "<table border=\"1\" class=\"dataframe\">\n",
       "  <thead>\n",
       "    <tr style=\"text-align: right;\">\n",
       "      <th></th>\n",
       "      <th>Tags</th>\n",
       "      <th>Counts</th>\n",
       "    </tr>\n",
       "  </thead>\n",
       "  <tbody>\n",
       "    <tr>\n",
       "      <th>0</th>\n",
       "      <td>.a</td>\n",
       "      <td>3</td>\n",
       "    </tr>\n",
       "    <tr>\n",
       "      <th>1</th>\n",
       "      <td>.app</td>\n",
       "      <td>8</td>\n",
       "    </tr>\n",
       "    <tr>\n",
       "      <th>2</th>\n",
       "      <td>.aspxauth</td>\n",
       "      <td>3</td>\n",
       "    </tr>\n",
       "    <tr>\n",
       "      <th>3</th>\n",
       "      <td>.bash-profile</td>\n",
       "      <td>13</td>\n",
       "    </tr>\n",
       "    <tr>\n",
       "      <th>4</th>\n",
       "      <td>.class-file</td>\n",
       "      <td>5</td>\n",
       "    </tr>\n",
       "  </tbody>\n",
       "</table>\n",
       "</div>"
      ],
      "text/plain": [
       "            Tags  Counts\n",
       "0             .a       3\n",
       "1           .app       8\n",
       "2      .aspxauth       3\n",
       "3  .bash-profile      13\n",
       "4    .class-file       5"
      ]
     },
     "execution_count": 140,
     "metadata": {},
     "output_type": "execute_result"
    }
   ],
   "source": [
    "with open('tag_counts_dict_dtm.csv', 'w') as csv_file:\n",
    "    writer = csv.writer(csv_file)\n",
    "    for key, value in result.items():\n",
    "        writer.writerow([key, value])\n",
    "tag_df = pd.read_csv(\"tag_counts_dict_dtm.csv\", names=['Tags', 'Counts'])\n",
    "tag_df.head()"
   ]
  },
  {
   "cell_type": "code",
   "execution_count": 141,
   "metadata": {},
   "outputs": [],
   "source": [
    "tag_df_sorted = tag_df.sort_values(['Counts'], ascending=False)\n",
    "tag_counts = tag_df_sorted['Counts'].values"
   ]
  },
  {
   "cell_type": "code",
   "execution_count": 142,
   "metadata": {},
   "outputs": [
    {
     "data": {
      "image/png": "[encoded data removed]",
      "text/plain": [
       "<Figure size 432x288 with 1 Axes>"
      ]
     },
     "metadata": {
      "needs_background": "light"
     },
     "output_type": "display_data"
    }
   ],
   "source": [
    "plt.plot(tag_counts)\n",
    "plt.title(\"Distribution of number of times tag appeared in questions\")\n",
    "plt.grid()\n",
    "plt.xlabel(\"Tag number\")\n",
    "plt.ylabel(\"Number of times tag appeared\")\n",
    "plt.show()"
   ]
  },
  {
   "cell_type": "code",
   "execution_count": 143,
   "metadata": {
    "scrolled": false
   },
   "outputs": [
    {
     "data": {
      "image/png": "[encoded data removed]",
      "text/plain": [
       "<Figure size 432x288 with 1 Axes>"
      ]
     },
     "metadata": {
      "needs_background": "light"
     },
     "output_type": "display_data"
    },
    {
     "name": "stdout",
     "output_type": "stream",
     "text": [
      "100 [37603 24567 13873 10826  7706  4909  4279  3585  3221  2827  2566  2442\n",
      "  2376  2222  2176  2052  1801  1708  1670  1576  1529  1480  1429  1370\n",
      "  1315  1279  1257  1234  1215  1199  1178  1138  1109  1092  1072  1055\n",
      "  1030   998   981   949   924   910   900   881   865   854   822   802\n",
      "   790   769   747   739   725   716   701   686   664   646   636   620\n",
      "   612   602   594   591   577   573   562   555   548   541   539   534\n",
      "   525   514   506   502   496   494   487   484   479   475   470   462\n",
      "   457   453   447   447   441   438   434   429   427   421   419   416\n",
      "   407   404   402   400]\n"
     ]
    }
   ],
   "source": [
    "plt.plot(tag_counts[0:500])\n",
    "plt.title('first 500 tags: Distribution of number of times tag appeared in questions')\n",
    "plt.grid()\n",
    "plt.xlabel(\"Tag number\")\n",
    "plt.ylabel(\"Number of times tag appeared\")\n",
    "plt.show()\n",
    "print(len(tag_counts[0:500:5]), tag_counts[0:500:5])"
   ]
  },
  {
   "cell_type": "markdown",
   "metadata": {},
   "source": [
    "Preprocessing texts\n",
    "\n",
    "- Sample 500k data points\n",
    "- Separate out code-snippets from Body\n",
    "- Remove special characters from Question title and description (not in code)\n",
    "- Remove stop words (Except 'C')\n",
    "- Remove HTML Tags\n",
    "- Convert all the characters into small letters\n"
   ]
  },
  {
   "cell_type": "code",
   "execution_count": 146,
   "metadata": {},
   "outputs": [],
   "source": [
    "def striphtml(data):\n",
    "    cleanr = re.compile('<.*?>')\n",
    "    cleantext = re.sub(cleanr, ' ', str(data))\n",
    "    return cleantext\n",
    "\n",
    "stop_words = set(stopwords.words('english'))"
   ]
  },
  {
   "cell_type": "code",
   "execution_count": 147,
   "metadata": {},
   "outputs": [
    {
     "name": "stdout",
     "output_type": "stream",
     "text": [
      "Tables in the databse:\n",
      "QuestionsProcessed\n"
     ]
    }
   ],
   "source": [
    "def create_connection(db_file):\n",
    "    try:\n",
    "        conn = sqlite3.connect(db_file)\n",
    "        return conn\n",
    "    except Error as e:\n",
    "        print(e)\n",
    " \n",
    "    return None\n",
    "\n",
    "\n",
    "def create_table(conn, create_table_sql):\n",
    "    try:\n",
    "        c = conn.cursor()\n",
    "        c.execute(create_table_sql)\n",
    "    except Error as e:\n",
    "        print(e)\n",
    "\n",
    "\n",
    "def checkTableExists(dbcon):\n",
    "    cursr = dbcon.cursor()\n",
    "    str = \"select name from sqlite_master where type='table'\"\n",
    "    table_names = cursr.execute(str)\n",
    "    print(\"Tables in the databse:\")\n",
    "    tables = table_names.fetchall() \n",
    "    print(tables[0][0])\n",
    "    return(len(tables))\n",
    "\n",
    "def create_database_table(database, query):\n",
    "    conn = create_connection(database)\n",
    "    if conn is not None:\n",
    "        create_table(conn, query)\n",
    "        checkTableExists(conn)\n",
    "    else:\n",
    "        print(\"Error! cannot create the database connection.\")\n",
    "    conn.close()\n",
    "\n",
    "\n",
    "sql_create_table = \"CREATE TABLE IF NOT EXISTS QuestionsProcessed (question text NOT NULL, code text, tags text, words_pre integer, words_post integer, is_code integer);\"\n",
    "create_database_table(\"Processed.db\", sql_create_table)"
   ]
  },
  {
   "cell_type": "code",
   "execution_count": 148,
   "metadata": {},
   "outputs": [
    {
     "name": "stdout",
     "output_type": "stream",
     "text": [
      "Tables in the databse:\n",
      "QuestionsProcessed\n",
      "Cleared all the rows\n",
      "Time taken to run this cell:  0:00:00.003001\n"
     ]
    }
   ],
   "source": [
    "start = datetime.now()\n",
    "read_db = \"train_sub_no_dup.db\"\n",
    "write_db = \"Processed.db\"\n",
    "\n",
    "if os.path.isfile(read_db):\n",
    "    conn_r = create_connection(read_db)\n",
    "    if conn_r is not None:\n",
    "        reader = conn_r.cursor()\n",
    "        reader.execute(\"SELECT Title, Body, Tags From no_dup_train;\")\n",
    "\n",
    "if os.path.isfile(write_db):\n",
    "    conn_w = create_connection(write_db)\n",
    "    if conn_w is not None:\n",
    "        tables = checkTableExists(conn_w)\n",
    "        writer = conn_w.cursor()\n",
    "        if tables != 0:\n",
    "            writer.execute(\"DELETE FROM QuestionsProcessed WHERE 1\")\n",
    "            print(\"Cleared all the rows\")\n",
    "\n",
    "print(\"Time taken to run this cell: \", datetime.now() - start)"
   ]
  },
  {
   "cell_type": "code",
   "execution_count": 151,
   "metadata": {
    "scrolled": true
   },
   "outputs": [
    {
     "name": "stdout",
     "output_type": "stream",
     "text": [
      "Number of questions completed =  100000\n",
      "Number of questions completed =  200000\n",
      "Number of questions completed =  300000\n",
      "Number of questions completed =  400000\n",
      "Avg length of questions(Title+Body) before processing: 1150\n",
      "Avg length of questions(Title+Body) after processing: 370\n",
      "Percent of questions containing code: 56\n",
      "Time taken to run this cell : 0:03:51.810306\n"
     ]
    }
   ],
   "source": [
    "start = datetime.now()\n",
    "preprocessed_data_list = []\n",
    "reader.fetchone()\n",
    "questions_with_code=0\n",
    "len_pre=0\n",
    "len_post=0\n",
    "questions_processed = 0\n",
    "\n",
    "for row in reader:\n",
    "    is_code = 0\n",
    "    title, question, tags = row[0], row[1], row[2]\n",
    "\n",
    "    if \"<code>\" in question:\n",
    "        questions_with_code += 1\n",
    "        is_code = 1\n",
    "    x = len(question) + len(title)\n",
    "    len_pre += x\n",
    "\n",
    "    code = str(re.findall(r\"<code>(.*?)</code>\", question, flags=re.DOTALL))\n",
    "    question = re.sub(\"<code>(.*?)</code>\", \"\", question, flags=re.MULTILINE|re.DOTALL)\n",
    "    question = striphtml(question.encode(\"utf-8\"))\n",
    "    title = title.encode(\"utf-8\")\n",
    "\n",
    "    question = str(title) + \" \" + str(question)\n",
    "    question = re.sub(r\"[^A-Za-z]+\",\" \",question)\n",
    "    words = word_tokenize(str(question.lower()))\n",
    "\n",
    "    question=' '.join(str(j) for j in words if j not in stop_words and (len(j) != 1 or j == \"c\"))\n",
    "\n",
    "    len_post += len(question)\n",
    "    tup = (question, code, tags, x, len(question), is_code)\n",
    "    questions_processed += 1\n",
    "    writer.execute(\"insert into QuestionsProcessed(question,code,tags,words_pre,words_post,is_code) values (?,?,?,?,?,?)\",tup)\n",
    "    if (questions_processed % 100000 == 0):\n",
    "        print(\"Number of questions completed = \",questions_processed)\n",
    "\n",
    "no_dup_avg_len_pre = (len_pre*1.0) / questions_processed\n",
    "no_dup_avg_len_post = (len_post*1.0) / questions_processed\n",
    "\n",
    "print(\"Avg length of questions(Title+Body) before processing: %d\"%no_dup_avg_len_pre)\n",
    "print(\"Avg length of questions(Title+Body) after processing: %d\"%no_dup_avg_len_post)\n",
    "print(\"Percent of questions containing code: %d\"%((questions_with_code*100.0)/questions_processed))\n",
    "print(\"Time taken to run this cell :\", datetime.now() - start)"
   ]
  },
  {
   "cell_type": "code",
   "execution_count": 152,
   "metadata": {},
   "outputs": [],
   "source": [
    "conn_r.commit()\n",
    "conn_w.commit()\n",
    "conn_r.close()\n",
    "conn_w.close()"
   ]
  },
  {
   "cell_type": "code",
   "execution_count": 153,
   "metadata": {},
   "outputs": [
    {
     "name": "stdout",
     "output_type": "stream",
     "text": [
      "Questions after preprocessed\n",
      "====================================================================================================\n",
      "('accessing local session bean exposed resteasy interface trying straight forward thus far impossible someone tell access local session bean exposed resteasy interface trawled length breadth internet find variations example trying find access session bean normal way using resteasy things look like far using ejb resteasy published ejb interface bean unpublished ejb interface bean example super simplified purposes demonstrating issue thanks advance help',)\n",
      "----------------------------------------------------------------------------------------------------\n",
      "('argument page griffith book introduction algebraic curves bit confused things griffiths says page book introduction algebraic curves sure reproduce text see googlebooks pages display firstly felt points nu points algebraic curve non trivial topology way line lambda set omega talked seems one working mathbb c times mathbb c right picture local analytic elements generically non trivial riemann surface mathbb c times mathbb c function elements nu obtained using implicit function theorem locally around roots algebraic curve could done complement non singular points one removes semi infinite line plane passes finite number singular points left still simply connected extend local analytic elements complement line removed one necessarily need use riemannn monodromy theorem possible simply argue property analytic continuation two analytic functions agree large enough open set explicit need path continuation along comes one introduces equivalence relation whereby one calls two nu equivalent exists path full space without deleting points unlike first along analytic continuation convert one seem need monodromy theorem missing something exactly heredity property invoked say second degree homogeneous polynomial two complex variables evaluated point nu went zero evaluate extension function nu guess given set locally holomorphic functions one remove semi infinite line plane repeat argument specific choice path intersects line hence line segment path intersecting induces permutation lastly want know entire argument made mathbb c entire thing something typical mathbb c times mathbb c may replacing holomorphic functions power series expandable real functions satisfy analytic continuation property like holomorphics clear happens heredity property generally extension argument proof technique mathbb c mathbb looking zero sets homogeneous polynomials appropriate number variables possibly restricting class functions appropriately would like know essential crux main idea behind technique proof',)\n",
      "----------------------------------------------------------------------------------------------------\n",
      "('automatic data recognition plot processing pgfplots beginner latex trying use industrial documents measurements report one example true position graph mwe circle represents true position tolerance data point outside circle meet requirements would like improve following way specify limits graph automatically extending max value found either columns certain factor axis axis fom actual data manually following lines similar way vertical horizontal lines created following lines adapt automatically graph size possible assign color dots value polar distance center align vertically color bar labels decimal separator opposed current position bonus assign neutral blue color dots meet tolerance inside circle color code ones meet requirements',)\n",
      "----------------------------------------------------------------------------------------------------\n",
      "('code working find duplicate values using jquery code working find duplicate values using jquery',)\n",
      "----------------------------------------------------------------------------------------------------\n",
      "('controlling lego wedo device anyone written api lego wedo device c found python api hopefully someone done net https github com itdaniher wedomore tried writing using libusb c know much usb python thanks',)\n",
      "----------------------------------------------------------------------------------------------------\n",
      "('creating relation multiple parent tables linking single table two tables person business unique id column different capturing individual person one capturing legal entities business common address address table contains two fields fkentityid fkentitytypeid relate table person follows person table address table person id fkenityid enum person fkentitytypeid business table address table business id fkenityid enum business fkentitytypeid define relationship code first using enum part foreign key',)\n",
      "----------------------------------------------------------------------------------------------------\n",
      "('datatable reader loading slow need fetch data based keyword query tested accurate problem loading pretty slow tried replacing query one contain loading pretty fast wonder since selecting one column result datatable load take much time loads whole results one column using datatable average time executing seconds code database connect solution used right first execution time dramatically descreased',)\n",
      "----------------------------------------------------------------------------------------------------\n",
      "('dialog getting recreated orientation change called using showdialog dialog long click menu id problem leaking window orientation change activity gets created never call oncreatedialog onpreparedialog know makes difference activity within tab insight possible causes massively appreciated',)\n",
      "----------------------------------------------------------------------------------------------------\n",
      "('dynamically changing localization vs setup project would like know change localization vs setup project dynamically scenario like operating system langauge french user clicks setup exe screens come french english langauge created setup project keeping localization property english shows screens english changed localization property french shows screens french want dynamically consider machine langauge display accordigly',)\n",
      "----------------------------------------------------------------------------------------------------\n"
     ]
    }
   ],
   "source": [
    "if os.path.isfile(write_db):\n",
    "    conn_r = create_connection(write_db)\n",
    "    if conn_r is not None:\n",
    "        reader =conn_r.cursor()\n",
    "        reader.execute(\"SELECT question From QuestionsProcessed LIMIT 10\")\n",
    "        print(\"Questions after preprocessed\")\n",
    "        print('='*100)\n",
    "        reader.fetchone()\n",
    "        for row in reader:\n",
    "            print(row)\n",
    "            print('-'*100)\n",
    "conn_r.commit()\n",
    "conn_r.close()"
   ]
  },
  {
   "cell_type": "code",
   "execution_count": 154,
   "metadata": {},
   "outputs": [],
   "source": [
    "write_db = 'Processed.db'\n",
    "if os.path.isfile(write_db):\n",
    "    conn_r = create_connection(write_db)\n",
    "    if conn_r is not None:\n",
    "        preprocessed_data = pd.read_sql_query(\"\"\"SELECT question, Tags FROM QuestionsProcessed\"\"\", conn_r)\n",
    "conn_r.commit()\n",
    "conn_r.close()"
   ]
  },
  {
   "cell_type": "code",
   "execution_count": 155,
   "metadata": {},
   "outputs": [
    {
     "data": {
      "text/html": [
       "<div>\n",
       "<style scoped>\n",
       "    .dataframe tbody tr th:only-of-type {\n",
       "        vertical-align: middle;\n",
       "    }\n",
       "\n",
       "    .dataframe tbody tr th {\n",
       "        vertical-align: top;\n",
       "    }\n",
       "\n",
       "    .dataframe thead th {\n",
       "        text-align: right;\n",
       "    }\n",
       "</style>\n",
       "<table border=\"1\" class=\"dataframe\">\n",
       "  <thead>\n",
       "    <tr style=\"text-align: right;\">\n",
       "      <th></th>\n",
       "      <th>question</th>\n",
       "      <th>tags</th>\n",
       "    </tr>\n",
       "  </thead>\n",
       "  <tbody>\n",
       "    <tr>\n",
       "      <th>0</th>\n",
       "      <td>internal server error asp net mvc working asp ...</td>\n",
       "      <td>asp.net-mvc</td>\n",
       "    </tr>\n",
       "    <tr>\n",
       "      <th>1</th>\n",
       "      <td>accessing local session bean exposed resteasy ...</td>\n",
       "      <td>ejb resteasy</td>\n",
       "    </tr>\n",
       "    <tr>\n",
       "      <th>2</th>\n",
       "      <td>argument page griffith book introduction algeb...</td>\n",
       "      <td>algebraic-geometry complex-analysis riemann-su...</td>\n",
       "    </tr>\n",
       "    <tr>\n",
       "      <th>3</th>\n",
       "      <td>automatic data recognition plot processing pgf...</td>\n",
       "      <td>pgfplots</td>\n",
       "    </tr>\n",
       "    <tr>\n",
       "      <th>4</th>\n",
       "      <td>code working find duplicate values using jquer...</td>\n",
       "      <td>spservices</td>\n",
       "    </tr>\n",
       "  </tbody>\n",
       "</table>\n",
       "</div>"
      ],
      "text/plain": [
       "                                            question  \\\n",
       "0  internal server error asp net mvc working asp ...   \n",
       "1  accessing local session bean exposed resteasy ...   \n",
       "2  argument page griffith book introduction algeb...   \n",
       "3  automatic data recognition plot processing pgf...   \n",
       "4  code working find duplicate values using jquer...   \n",
       "\n",
       "                                                tags  \n",
       "0                                        asp.net-mvc  \n",
       "1                                       ejb resteasy  \n",
       "2  algebraic-geometry complex-analysis riemann-su...  \n",
       "3                                           pgfplots  \n",
       "4                                         spservices  "
      ]
     },
     "execution_count": 155,
     "metadata": {},
     "output_type": "execute_result"
    }
   ],
   "source": [
    "preprocessed_data.head()"
   ]
  },
  {
   "cell_type": "code",
   "execution_count": 156,
   "metadata": {},
   "outputs": [
    {
     "name": "stdout",
     "output_type": "stream",
     "text": [
      "Number of data points in sample: 485833\n",
      "Number of dimensions: 2\n"
     ]
    }
   ],
   "source": [
    "print(\"Number of data points in sample:\", preprocessed_data.shape[0])\n",
    "print(\"Number of dimensions:\", preprocessed_data.shape[1])"
   ]
  },
  {
   "cell_type": "code",
   "execution_count": 157,
   "metadata": {},
   "outputs": [],
   "source": [
    "vectorizer = CountVectorizer(tokenizer = lambda x: x.split(), binary='true')\n",
    "multilabel_y = vectorizer.fit_transform(preprocessed_data['tags'])"
   ]
  },
  {
   "cell_type": "code",
   "execution_count": 159,
   "metadata": {},
   "outputs": [],
   "source": [
    "def tags_to_choose(n):\n",
    "    t = multilabel_y.sum(axis=0).tolist()[0]\n",
    "    sorted_tags_i = sorted(range(len(t)), key=lambda i: t[i], reverse=True)\n",
    "    multilabel_yn = multilabel_y[:,sorted_tags_i[:n]]\n",
    "    return multilabel_yn\n",
    "\n",
    "def questions_explained_fn(n):\n",
    "    multilabel_yn = tags_to_choose(n)\n",
    "    x = multilabel_yn.sum(axis=1)\n",
    "    return (np.count_nonzero(x==0))"
   ]
  },
  {
   "cell_type": "code",
   "execution_count": 160,
   "metadata": {},
   "outputs": [],
   "source": [
    "questions_explained = []\n",
    "total_tags = multilabel_y.shape[1]\n",
    "total_qs = preprocessed_data.shape[0]\n",
    "for i in range(500, total_tags, 100):\n",
    "    questions_explained.append(np.round(((total_qs-questions_explained_fn(i))/total_qs)*100,3))"
   ]
  },
  {
   "cell_type": "code",
   "execution_count": 166,
   "metadata": {},
   "outputs": [
    {
     "data": {
      "image/png": "[encoded data removed]",
      "text/plain": [
       "<Figure size 432x288 with 1 Axes>"
      ]
     },
     "metadata": {
      "needs_background": "light"
     },
     "output_type": "display_data"
    },
    {
     "name": "stdout",
     "output_type": "stream",
     "text": [
      "With  500 tags we are covering  89.747 % of questions\n"
     ]
    }
   ],
   "source": [
    "fig, ax = plt.subplots()\n",
    "ax.plot(questions_explained)\n",
    "xlabel = list(500 + np.array(range(-50,450,50))*50)\n",
    "ax.set_xticklabels(xlabel)\n",
    "plt.xlabel(\"Number of tags\")\n",
    "plt.ylabel(\"Number Questions coverd partially\")\n",
    "plt.grid()\n",
    "plt.show()\n",
    "\n",
    "print(\"With \", 500, \"tags we are covering \", questions_explained[0], \"% of questions\")"
   ]
  },
  {
   "cell_type": "code",
   "execution_count": 169,
   "metadata": {},
   "outputs": [
    {
     "name": "stdout",
     "output_type": "stream",
     "text": [
      "Number of questions that are not covered : 49812 out of  485833\n"
     ]
    }
   ],
   "source": [
    "multilabel_yx = tags_to_choose(500)\n",
    "print(\"Number of questions that are not covered :\", questions_explained_fn(500),\"out of \", total_qs)"
   ]
  },
  {
   "cell_type": "code",
   "execution_count": 170,
   "metadata": {},
   "outputs": [
    {
     "name": "stdout",
     "output_type": "stream",
     "text": [
      "Number of tags in sample: 30429\n",
      "Number of tags taken: 500 ( 1.6431693450326992 %)\n"
     ]
    }
   ],
   "source": [
    "print(\"Number of tags in sample:\", multilabel_y.shape[1])\n",
    "print(\"Number of tags taken:\", multilabel_yx.shape[1],\"(\",(multilabel_yx.shape[1]/multilabel_y.shape[1])*100,\"%)\")"
   ]
  },
  {
   "cell_type": "code",
   "execution_count": 177,
   "metadata": {},
   "outputs": [],
   "source": [
    "total_size = preprocessed_data.shape[0]\n",
    "train_size = int(0.80*total_size)\n",
    "\n",
    "x_train = preprocessed_data.head(train_size)\n",
    "x_test = preprocessed_data.tail(total_size - train_size)\n",
    "\n",
    "y_train = multilabel_yx[0:train_size, : ]\n",
    "y_test = multilabel_yx[train_size:total_size, : ]"
   ]
  },
  {
   "cell_type": "code",
   "execution_count": 205,
   "metadata": {
    "scrolled": true
   },
   "outputs": [],
   "source": [
    "x_train.to_csv(\"x_train_final.csv\", index=False)\n",
    "x_test.to_csv(\"x_test_final.csv\", index=False)\n",
    "\n",
    "save_npz(\"y_train_final\", y_train, compressed=True)\n",
    "save_npz(\"y_test_final\", y_test, compressed=True)"
   ]
  }
 ],
 "metadata": {
  "kernelspec": {
   "display_name": "Python 3 (ipykernel)",
   "language": "python",
   "name": "python3"
  },
  "language_info": {
   "codemirror_mode": {
    "name": "ipython",
    "version": 3
   },
   "file_extension": ".py",
   "mimetype": "text/x-python",
   "name": "python",
   "nbconvert_exporter": "python",
   "pygments_lexer": "ipython3",
   "version": "3.7.5"
  }
 },
 "nbformat": 4,
 "nbformat_minor": 4
}
