{
 "cells": [
  {
   "cell_type": "code",
   "execution_count": 1,
   "metadata": {
    "colab": {
     "base_uri": "https://localhost:8080/"
    },
    "id": "QUTHaeCafv03",
    "outputId": "33309a39-fcdf-4c2d-92ab-3ba99ecd80a3"
   },
   "outputs": [
    {
     "name": "stdout",
     "output_type": "stream",
     "text": [
      "Found existing installation: scikit-learn 1.0.2\n",
      "Uninstalling scikit-learn-1.0.2:\n",
      "  Successfully uninstalled scikit-learn-1.0.2\n",
      "Looking in indexes: https://pypi.org/simple, https://us-python.pkg.dev/colab-wheels/public/simple/\n",
      "Collecting scikit-learn==0.24.1\n",
      "  Downloading scikit_learn-0.24.1-cp38-cp38-manylinux2010_x86_64.whl (24.9 MB)\n",
      "\u001b[K     |████████████████████████████████| 24.9 MB 4.5 MB/s \n",
      "\u001b[?25hRequirement already satisfied: numpy>=1.13.3 in /usr/local/lib/python3.8/dist-packages (from scikit-learn==0.24.1) (1.21.6)\n",
      "Requirement already satisfied: scipy>=0.19.1 in /usr/local/lib/python3.8/dist-packages (from scikit-learn==0.24.1) (1.7.3)\n",
      "Requirement already satisfied: threadpoolctl>=2.0.0 in /usr/local/lib/python3.8/dist-packages (from scikit-learn==0.24.1) (3.1.0)\n",
      "Requirement already satisfied: joblib>=0.11 in /usr/local/lib/python3.8/dist-packages (from scikit-learn==0.24.1) (1.2.0)\n",
      "Installing collected packages: scikit-learn\n",
      "\u001b[31mERROR: pip's dependency resolver does not currently take into account all the packages that are installed. This behaviour is the source of the following dependency conflicts.\n",
      "yellowbrick 1.5 requires scikit-learn>=1.0.0, but you have scikit-learn 0.24.1 which is incompatible.\u001b[0m\n",
      "Successfully installed scikit-learn-0.24.1\n"
     ]
    }
   ],
   "source": [
    "!pip uninstall scikit-learn -y\n",
    "!pip install scikit-learn==0.24.1"
   ]
  },
  {
   "cell_type": "code",
   "execution_count": 2,
   "metadata": {
    "colab": {
     "base_uri": "https://localhost:8080/"
    },
    "id": "LUr5VF6oyTUI",
    "outputId": "af162eeb-9672-4bda-dfbe-de822967ba23"
   },
   "outputs": [
    {
     "name": "stdout",
     "output_type": "stream",
     "text": [
      "Looking in indexes: https://pypi.org/simple, https://us-python.pkg.dev/colab-wheels/public/simple/\n",
      "Collecting scikit-multilearn\n",
      "  Downloading scikit_multilearn-0.2.0-py3-none-any.whl (89 kB)\n",
      "\u001b[K     |████████████████████████████████| 89 kB 3.4 MB/s \n",
      "\u001b[?25hInstalling collected packages: scikit-multilearn\n",
      "Successfully installed scikit-multilearn-0.2.0\n"
     ]
    }
   ],
   "source": [
    "!pip install scikit-multilearn"
   ]
  },
  {
   "cell_type": "markdown",
   "metadata": {
    "id": "KZfeUAEFwiM9"
   },
   "source": [
    "##Loading and Preprocessing"
   ]
  },
  {
   "cell_type": "code",
   "execution_count": 3,
   "metadata": {
    "colab": {
     "base_uri": "https://localhost:8080/"
    },
    "id": "ip5SFr_zXkLD",
    "outputId": "e8b5f366-dbf0-4da9-bcfe-cc10589ee527"
   },
   "outputs": [
    {
     "name": "stdout",
     "output_type": "stream",
     "text": [
      "Mounted at /content/gdrive/\n"
     ]
    }
   ],
   "source": [
    "# mount drive\n",
    "from google.colab import drive\n",
    "drive.mount('/content/gdrive/', force_remount=True)"
   ]
  },
  {
   "cell_type": "code",
   "execution_count": 1,
   "metadata": {
    "id": "nTehHJ-9YlhM"
   },
   "outputs": [],
   "source": [
    "import nltk\n",
    "import numpy as np\n",
    "from scipy.sparse import save_npz, load_npz\n",
    "import pandas as pd\n",
    "\n",
    "from tqdm import tqdm"
   ]
  },
  {
   "cell_type": "code",
   "execution_count": 2,
   "metadata": {
    "id": "CUkllM10bPKP"
   },
   "outputs": [],
   "source": [
    "from sklearn.feature_extraction.text import TfidfVectorizer\n",
    "from sklearn.multiclass import OneVsRestClassifier\n",
    "from sklearn.linear_model import SGDClassifier\n",
    "from sklearn import metrics\n",
    "from sklearn.metrics import f1_score,precision_score,recall_score\n",
    "from skmultilearn.problem_transform import BinaryRelevance\n",
    "from skmultilearn.problem_transform import LabelPowerset\n",
    "from sklearn.naive_bayes import GaussianNB\n",
    "import pickle"
   ]
  },
  {
   "cell_type": "code",
   "execution_count": 3,
   "metadata": {
    "id": "VuksOZXGmenY"
   },
   "outputs": [],
   "source": [
    "data_dir = \"/content/gdrive/MyDrive/Data/\"\n",
    "\n",
    "x_train = pd.read_csv(data_dir + \"x_train_final.csv\")[\"question\"].to_numpy()\n",
    "x_test = pd.read_csv(data_dir + \"x_val_final.csv\")[\"question\"].to_numpy()\n",
    "\n",
    "y_train = load_npz(data_dir + \"y_train_final.npz\").toarray()\n",
    "y_test = load_npz(data_dir + \"y_val_final.npz\").toarray()"
   ]
  },
  {
   "cell_type": "code",
   "execution_count": 7,
   "metadata": {
    "colab": {
     "base_uri": "https://localhost:8080/"
    },
    "id": "P-c9IVRHGcmD",
    "outputId": "57dd54b2-b52a-408b-cfc8-bfb2205831a7"
   },
   "outputs": [
    {
     "data": {
      "text/plain": [
       "array([[0, 0, 0, ..., 0, 0, 0],\n",
       "       [0, 0, 0, ..., 0, 0, 0],\n",
       "       [0, 0, 0, ..., 0, 0, 0],\n",
       "       ...,\n",
       "       [0, 0, 0, ..., 0, 0, 0],\n",
       "       [0, 0, 0, ..., 0, 0, 0],\n",
       "       [0, 0, 0, ..., 0, 0, 0]])"
      ]
     },
     "execution_count": 7,
     "metadata": {},
     "output_type": "execute_result"
    }
   ],
   "source": [
    "y_train"
   ]
  },
  {
   "cell_type": "code",
   "execution_count": 8,
   "metadata": {
    "colab": {
     "base_uri": "https://localhost:8080/"
    },
    "id": "80zGCdG_G0Qd",
    "outputId": "fbac76cf-ce66-48f2-cb23-9d9401103703"
   },
   "outputs": [
    {
     "data": {
      "text/plain": [
       "<memory at 0x7f2e4c266ad0>"
      ]
     },
     "execution_count": 8,
     "metadata": {},
     "output_type": "execute_result"
    }
   ],
   "source": [
    "y_train.data"
   ]
  },
  {
   "cell_type": "code",
   "execution_count": 4,
   "metadata": {
    "colab": {
     "base_uri": "https://localhost:8080/"
    },
    "id": "QuOGpSzXmqGm",
    "outputId": "f49e607a-a104-476c-b1cc-5af688acec9a"
   },
   "outputs": [
    {
     "name": "stdout",
     "output_type": "stream",
     "text": [
      "(77733,) (77733, 500) (19433,) (19433, 500)\n"
     ]
    }
   ],
   "source": [
    "final_train_size = x_train.shape[0] // 5\n",
    "final_test_size = x_test.shape[0] // 5\n",
    "\n",
    "x_train_final = x_train[:final_train_size]\n",
    "y_train_final = y_train[:final_train_size]\n",
    "\n",
    "x_test_final = x_test[-final_test_size:]\n",
    "y_test_final = y_test[-final_test_size:]\n",
    "\n",
    "print(x_train_final.shape, y_train_final.shape, x_test_final.shape, y_test_final.shape)"
   ]
  },
  {
   "cell_type": "code",
   "execution_count": 10,
   "metadata": {
    "id": "HqeLFZNTbSoL"
   },
   "outputs": [],
   "source": [
    "# tfidf_vect = TfidfVectorizer(min_df=0.00009,max_features=200000,smooth_idf=True,norm='l2',\\\n",
    "#                tokenizer=lambda x : x.split(),sublinear_tf=False, ngram_range=(1,3) )"
   ]
  },
  {
   "cell_type": "code",
   "execution_count": 11,
   "metadata": {
    "id": "H0Uc_fT5bVly"
   },
   "outputs": [],
   "source": [
    "# x_train_vectors = tfidf_vect.fit_transform(x_train_final)\n",
    "# x_test_vectors = tfidf_vect.transform(x_test_final)"
   ]
  },
  {
   "cell_type": "code",
   "execution_count": 12,
   "metadata": {
    "id": "Q2VsERyvnMqi"
   },
   "outputs": [],
   "source": [
    "# save_npz(data_dir+'x_train_vectors.npz', x_train_vectors)\n",
    "# save_npz(data_dir+'/x_test_vectors.npz', x_test_vectors)"
   ]
  },
  {
   "cell_type": "code",
   "execution_count": 5,
   "metadata": {
    "id": "RrB7Xn4420e1"
   },
   "outputs": [],
   "source": [
    "x_train_vectors = load_npz(data_dir + \"x_train_vectors.npz\")\n",
    "x_test_vectors = load_npz(data_dir + \"x_test_vectors.npz\")"
   ]
  },
  {
   "cell_type": "code",
   "execution_count": 6,
   "metadata": {
    "colab": {
     "base_uri": "https://localhost:8080/"
    },
    "id": "pNeXgi0cdmbO",
    "outputId": "71a2db17-995d-4de7-986e-4a3982c23db4"
   },
   "outputs": [
    {
     "name": "stdout",
     "output_type": "stream",
     "text": [
      "Dimensions of train data X: (77733, 94625) Y : (77733, 500)\n",
      "Dimensions of test data X: (19433, 94625) Y: (19433, 500)\n"
     ]
    }
   ],
   "source": [
    "print(\"Dimensions of train data X:\",x_train_vectors.shape, \"Y :\",y_train_final.shape)\n",
    "print(\"Dimensions of test data X:\",x_test_vectors.shape,\"Y:\",y_test_final.shape)"
   ]
  },
  {
   "cell_type": "code",
   "execution_count": 7,
   "metadata": {},
   "outputs": [],
   "source": [
    "def get_predictions(x_test, model, chunksize):\n",
    "    \n",
    "    predictions = []\n",
    "    \n",
    "    n_samples = x_test.shape[0]\n",
    "    n_iter = n_samples // chunksize\n",
    "    last_iter = 0\n",
    "    \n",
    "    if (n_samples % chunksize):\n",
    "        n_iter += 1\n",
    "        last_iter = n_samples % chunksize\n",
    "    \n",
    "    with tqdm(total=n_samples, desc=\"Progress\") as pbar:\n",
    "        \n",
    "        for i in range(n_iter-1):\n",
    "            sub_samples = x_test[int(i*chunksize): int((i+1)*chunksize)]\n",
    "            preds = model.predict(sub_samples)\n",
    "            predictions.extend(preds.tolist())\n",
    "            pbar.update(preds.shape[0])\n",
    "        \n",
    "        sub_samples = x_test[-last_iter:]\n",
    "        preds = model.predict(sub_samples)\n",
    "        predictions.extend(preds.tolist())\n",
    "        pbar.update(preds.shape[0])\n",
    "    \n",
    "    predictions = np.array(predictions)\n",
    "    return predictions"
   ]
  },
  {
   "cell_type": "markdown",
   "metadata": {
    "id": "ptC3oihKgI8w"
   },
   "source": [
    "##ML KNN"
   ]
  },
  {
   "cell_type": "code",
   "execution_count": null,
   "metadata": {
    "colab": {
     "base_uri": "https://localhost:8080/"
    },
    "id": "tlugqvKlK-_Z",
    "outputId": "c7f4b3ca-3c91-47a6-f948-05e4cf7ec833"
   },
   "outputs": [
    {
     "data": {
      "text/plain": [
       "MLkNN(k=3)"
      ]
     },
     "execution_count": 20,
     "metadata": {},
     "output_type": "execute_result"
    }
   ],
   "source": [
    "from skmultilearn.adapt import MLkNN\n",
    "\n",
    "classifier = MLkNN(k=3)\n",
    "\n",
    "# train\n",
    "classifier.fit(x_train_vectors,y_train_final)"
   ]
  },
  {
   "cell_type": "code",
   "execution_count": 10,
   "metadata": {
    "id": "24v27l4jgO5F"
   },
   "outputs": [],
   "source": [
    "predictions = classifier.predict(x_test_vectors)"
   ]
  },
  {
   "cell_type": "code",
   "execution_count": 15,
   "metadata": {
    "colab": {
     "base_uri": "https://localhost:8080/"
    },
    "id": "1tUHwzrwgT9B",
    "outputId": "4ce36206-2e00-4c27-ef4f-68d0d8bfc579"
   },
   "outputs": [
    {
     "name": "stdout",
     "output_type": "stream",
     "text": [
      "accuracy  0.07502701590078732\n",
      "f1 score  0.18543139306436576\n"
     ]
    }
   ],
   "source": [
    "print(\"accuracy \", metrics.accuracy_score(y_test_final,predictions))\n",
    "print(\"f1 score \", metrics.f1_score(y_test_final, predictions, average=\"macro\"))"
   ]
  },
  {
   "cell_type": "markdown",
   "metadata": {
    "id": "dtGBSejJgXOb"
   },
   "source": [
    "##RAkELd\n"
   ]
  },
  {
   "cell_type": "code",
   "execution_count": 18,
   "metadata": {
    "colab": {
     "base_uri": "https://localhost:8080/"
    },
    "id": "eVItmX8zghEH",
    "outputId": "b82f6050-2fd7-4ca5-b8f7-a3af5a3a4cc1"
   },
   "outputs": [
    {
     "data": {
      "text/plain": [
       "LabelSpacePartitioningClassifier(classifier=LabelPowerset(classifier=GaussianNB(),\n",
       "                                                          require_dense=[True,\n",
       "                                                                         True]),\n",
       "                                 clusterer=RandomLabelSpaceClusterer(allow_overlap=False,\n",
       "                                                                     cluster_count=125,\n",
       "                                                                     cluster_size=4),\n",
       "                                 require_dense=[False, False])"
      ]
     },
     "execution_count": 18,
     "metadata": {},
     "output_type": "execute_result"
    }
   ],
   "source": [
    "from sklearn.naive_bayes import GaussianNB\n",
    "from skmultilearn.ensemble import RakelD\n",
    "\n",
    "classifier = RakelD(\n",
    "    base_classifier=GaussianNB(),\n",
    "    base_classifier_require_dense=[True, True],\n",
    "    labelset_size=4\n",
    ")\n",
    "\n",
    "# train\n",
    "classifier.fit(x_train_vectors[:2000],y_train_final[:2000])"
   ]
  },
  {
   "cell_type": "code",
   "execution_count": 9,
   "metadata": {},
   "outputs": [],
   "source": [
    "predictions = classifier.predict(x_test_vectors)"
   ]
  },
  {
   "cell_type": "code",
   "execution_count": 19,
   "metadata": {},
   "outputs": [
    {
     "name": "stdout",
     "output_type": "stream",
     "text": [
      "accuracy  0.40945682351259727\n",
      "macro f1 score  0.3525682495223461\n"
     ]
    }
   ],
   "source": [
    "print(\"accuracy \", metrics.accuracy_score(y_test_final[:100],predictions))\n",
    "print(\"macro f1 score \",metrics.f1_score(y_test_final[:100],predictions, average='macro'))"
   ]
  },
  {
   "cell_type": "markdown",
   "metadata": {
    "id": "mGtUC8_Qg1eT"
   },
   "source": [
    "##CC"
   ]
  },
  {
   "cell_type": "markdown",
   "metadata": {
    "id": "lbJhzkPzz5Nk"
   },
   "source": [
    "###One vs Rest"
   ]
  },
  {
   "cell_type": "code",
   "execution_count": 15,
   "metadata": {
    "colab": {
     "base_uri": "https://localhost:8080/",
     "height": 353
    },
    "id": "Rb0IVrfOfizG",
    "outputId": "eca4e465-883b-4194-ddaf-9939b4a03f14"
   },
   "outputs": [
    {
     "data": {
      "text/plain": [
       "OneVsRestClassifier(estimator=SGDClassifier(alpha=1e-05, loss='log',\n",
       "                                            penalty='l1'),\n",
       "                    n_jobs=-1)"
      ]
     },
     "execution_count": 15,
     "metadata": {},
     "output_type": "execute_result"
    }
   ],
   "source": [
    "from sklearn.multiclass import OneVsRestClassifier\n",
    "from sklearn.linear_model import SGDClassifier\n",
    "classifier = OneVsRestClassifier(SGDClassifier(loss='log', alpha=0.00001, penalty='l1'), n_jobs=-1)\n",
    "classifier.fit(x_train_vectors,y_train_final)"
   ]
  },
  {
   "cell_type": "code",
   "execution_count": 12,
   "metadata": {
    "id": "SlYejoP8wdye"
   },
   "outputs": [
    {
     "name": "stderr",
     "output_type": "stream",
     "text": [
      "Progress: 100%|█████████████████████████| 19433/19433 [00:05<00:00, 3353.68it/s]\n"
     ]
    }
   ],
   "source": [
    "#predictions = classifier.predict(x_test_vectors)\n",
    "\n",
    "predictions = get_predictions(x_test_vectors, classifier, chunksize=1000)"
   ]
  },
  {
   "cell_type": "code",
   "execution_count": 13,
   "metadata": {
    "colab": {
     "base_uri": "https://localhost:8080/"
    },
    "id": "5pMVjC6cwsPa",
    "outputId": "54c29fe3-b0eb-40b5-8cda-6fe54dd785ac"
   },
   "outputs": [
    {
     "name": "stdout",
     "output_type": "stream",
     "text": [
      "accuracy  0.21592137086399424\n",
      "macro f1 score  0.3114089766564016\n"
     ]
    }
   ],
   "source": [
    "print(\"accuracy \", metrics.accuracy_score(y_test_final,predictions))\n",
    "print(\"macro f1 score \",metrics.f1_score(y_test_final,predictions, average='macro'))"
   ]
  }
 ],
 "metadata": {
  "accelerator": "GPU",
  "colab": {
   "provenance": []
  },
  "gpuClass": "standard",
  "kernelspec": {
   "display_name": "Python 3 (ipykernel)",
   "language": "python",
   "name": "python3"
  },
  "language_info": {
   "codemirror_mode": {
    "name": "ipython",
    "version": 3
   },
   "file_extension": ".py",
   "mimetype": "text/x-python",
   "name": "python",
   "nbconvert_exporter": "python",
   "pygments_lexer": "ipython3",
   "version": "3.7.5"
  }
 },
 "nbformat": 4,
 "nbformat_minor": 1
}
